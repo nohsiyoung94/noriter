{
 "cells": [
  {
   "cell_type": "code",
   "execution_count": null,
   "metadata": {},
   "outputs": [
    {
     "name": "stdout",
     "output_type": "stream",
     "text": [
      "my name is 홍길동 and I'm 41 years old\n"
     ]
    }
   ],
   "source": [
    "d = {\"name\" : \"홍길동\"\n",
    ",\"age\" : 30}\n",
    "a = f'my name is {d[\"name\"]} and I\\'m {d[\"age\"]+11} years old. and {{you??}}'\n",
    "print(a)\n"
   ]
  },
  {
   "cell_type": "code",
   "execution_count": 38,
   "metadata": {},
   "outputs": [
    {
     "name": "stdout",
     "output_type": "stream",
     "text": [
      "my name is 홍길동 and I'm 60 years old\n"
     ]
    }
   ],
   "source": [
    "name = \"홍길동\"\n",
    "age = 30\n",
    "a = f'my name is {name} and I\\'m {age+age} years old'\n",
    "print(a)"
   ]
  },
  {
   "cell_type": "code",
   "execution_count": 36,
   "metadata": {},
   "outputs": [
    {
     "name": "stdout",
     "output_type": "stream",
     "text": [
      "my name is 홍길동 and I'm 30 years old\n"
     ]
    }
   ],
   "source": [
    "name = \"홍길동\"\n",
    "age = 30\n",
    "a = f'my name is {name} and I\\'m {age} years old'\n",
    "print(a)\n"
   ]
  },
  {
   "cell_type": "code",
   "execution_count": 35,
   "metadata": {},
   "outputs": [
    {
     "name": "stdout",
     "output_type": "stream",
     "text": [
      "|                        3.1425|\n"
     ]
    }
   ],
   "source": [
    "y=3.14245678912\n",
    "a = \"|\" +\"{0:30.4f}\".format(y)+\"|\"\n",
    "print(a)"
   ]
  },
  {
   "cell_type": "code",
   "execution_count": 30,
   "metadata": {},
   "outputs": [
    {
     "name": "stdout",
     "output_type": "stream",
     "text": [
      "3.1425\n"
     ]
    }
   ],
   "source": [
    "y=3.14245678912\n",
    "a = \"{0:0.4f}\".format(y)\n",
    "print(a)"
   ]
  },
  {
   "cell_type": "code",
   "execution_count": 29,
   "metadata": {},
   "outputs": [
    {
     "name": "stdout",
     "output_type": "stream",
     "text": [
      "|HelloWorkd!!!!!!!!!!|\n"
     ]
    }
   ],
   "source": [
    "a=\"|\" +\"{0:!<20}\".format(\"HelloWorkd\")+\"|\"\n",
    "print(a)"
   ]
  },
  {
   "cell_type": "code",
   "execution_count": null,
   "metadata": {},
   "outputs": [
    {
     "name": "stdout",
     "output_type": "stream",
     "text": [
      "|*****HelloWorkd*****|\n"
     ]
    }
   ],
   "source": [
    "a=\"|\" +\"{0:*^20}\".format(\"HelloWorld\")+\"|\"\n",
    "print(a)"
   ]
  },
  {
   "cell_type": "code",
   "execution_count": null,
   "metadata": {},
   "outputs": [
    {
     "name": "stdout",
     "output_type": "stream",
     "text": [
      "|     HelloWorkd     |\n"
     ]
    }
   ],
   "source": [
    "a=\"|\" +\"{0:^20}\".format(\"HelloWorld\")+\"|\"\n",
    "print(a)"
   ]
  },
  {
   "cell_type": "code",
   "execution_count": null,
   "metadata": {},
   "outputs": [
    {
     "name": "stdout",
     "output_type": "stream",
     "text": [
      "          HelloWorkd\n"
     ]
    }
   ],
   "source": [
    "a=\"{0:>20}\".format(\"HelloWorld\")\n",
    "print(a)"
   ]
  },
  {
   "cell_type": "code",
   "execution_count": 24,
   "metadata": {},
   "outputs": [
    {
     "name": "stdout",
     "output_type": "stream",
     "text": [
      "I ate 10 apples... so I was sick for TEN days\n"
     ]
    }
   ],
   "source": [
    "a=\"I ate {0} apples... so I was sick for {day} days\".format(10,day=\"TEN\")\n",
    "print(a)"
   ]
  },
  {
   "cell_type": "code",
   "execution_count": 22,
   "metadata": {},
   "outputs": [
    {
     "name": "stdout",
     "output_type": "stream",
     "text": [
      "I ate 109 apples... so I was sick for Three days.\n"
     ]
    }
   ],
   "source": [
    "a=\"I ate {number} apples... so I was sick for {day} days.\".format(number=109,day=\"Three\")\n",
    "print(a)"
   ]
  },
  {
   "cell_type": "code",
   "execution_count": 21,
   "metadata": {},
   "outputs": [
    {
     "name": "stdout",
     "output_type": "stream",
     "text": [
      "I ate 3 apples. so I was sick for Three days.\n"
     ]
    }
   ],
   "source": [
    "number = 3\n",
    "day = \"Three\"\n",
    "a=\"I ate {0} apples. so I was sick for {1} days.\".format(number,day)\n",
    "print(a)"
   ]
  },
  {
   "cell_type": "code",
   "execution_count": 19,
   "metadata": {},
   "outputs": [
    {
     "name": "stdout",
     "output_type": "stream",
     "text": [
      "I eat 3 apples.\n"
     ]
    }
   ],
   "source": [
    "number = 3\n",
    "a=\"I eat {0} apples.\".format(number)\n",
    "print(a)"
   ]
  },
  {
   "cell_type": "code",
   "execution_count": 18,
   "metadata": {},
   "outputs": [
    {
     "name": "stdout",
     "output_type": "stream",
     "text": [
      "I eat five apples.\n"
     ]
    }
   ],
   "source": [
    "a=\"I eat {0} apples.\".format(\"five\")\n",
    "print(a)"
   ]
  },
  {
   "cell_type": "code",
   "execution_count": 17,
   "metadata": {},
   "outputs": [
    {
     "name": "stdout",
     "output_type": "stream",
     "text": [
      "I eat 3 apples.\n"
     ]
    }
   ],
   "source": [
    "a = \"I eat {0} apples.\".format(3)\n",
    "print(a)"
   ]
  },
  {
   "cell_type": "code",
   "execution_count": 15,
   "metadata": {},
   "outputs": [
    {
     "name": "stdout",
     "output_type": "stream",
     "text": [
      "3.4213\n"
     ]
    }
   ],
   "source": [
    "a=\"%0.4f\" %3.4213423448597\n",
    "print(a)"
   ]
  },
  {
   "cell_type": "code",
   "execution_count": 14,
   "metadata": {},
   "outputs": [
    {
     "name": "stdout",
     "output_type": "stream",
     "text": [
      "hi        jane.\n"
     ]
    }
   ],
   "source": [
    "a = \"%-10sjane.\" %\"hi\"\n",
    "print(a)"
   ]
  },
  {
   "cell_type": "code",
   "execution_count": 13,
   "metadata": {},
   "outputs": [
    {
     "name": "stdout",
     "output_type": "stream",
     "text": [
      "                                                                                                            hi\n"
     ]
    }
   ],
   "source": [
    "a = \"%110s\" %\"hi\"\n",
    "print(a)"
   ]
  },
  {
   "cell_type": "code",
   "execution_count": 11,
   "metadata": {},
   "outputs": [
    {
     "name": "stdout",
     "output_type": "stream",
     "text": [
      "Error is 98%.\n"
     ]
    }
   ],
   "source": [
    "a=\"Error is %d%%.\" %98\n",
    "print(a)"
   ]
  },
  {
   "cell_type": "code",
   "execution_count": 10,
   "metadata": {},
   "outputs": [
    {
     "name": "stdout",
     "output_type": "stream",
     "text": [
      "I have 3 apples rate is 3.224\n"
     ]
    }
   ],
   "source": [
    "a = \"I have %s apples\" % 3\n",
    "b = \"rate is %s\" % 3.224\n",
    "print(a,b)"
   ]
  },
  {
   "cell_type": "code",
   "execution_count": null,
   "metadata": {},
   "outputs": [
    {
     "name": "stdout",
     "output_type": "stream",
     "text": [
      "I atd 10 apples. so I was sick for Three days.\n"
     ]
    }
   ],
   "source": [
    "number = 10\n",
    "day = \"Three\"\n",
    "a = \"I ate %d apples. so I was sick for %s days.\" % (number, day)\n",
    "print(a)"
   ]
  },
  {
   "cell_type": "code",
   "execution_count": 8,
   "metadata": {},
   "outputs": [
    {
     "name": "stdout",
     "output_type": "stream",
     "text": [
      "I have 5 miilondolors\n"
     ]
    }
   ],
   "source": [
    "number   =5 \n",
    "a = \"I have %d miilondolors\" % number\n",
    "print(a)"
   ]
  },
  {
   "cell_type": "code",
   "execution_count": 6,
   "metadata": {},
   "outputs": [
    {
     "name": "stdout",
     "output_type": "stream",
     "text": [
      "I have five busks\n"
     ]
    }
   ],
   "source": [
    "a = \"I have %s busks\" % \"five\"\n",
    "print(a)"
   ]
  },
  {
   "cell_type": "code",
   "execution_count": 5,
   "metadata": {},
   "outputs": [
    {
     "name": "stdout",
     "output_type": "stream",
     "text": [
      "I have 15 bucks\n"
     ]
    }
   ],
   "source": [
    "a = \"I have %d bucks\" % 15\n",
    "print(a)"
   ]
  }
 ],
 "metadata": {
  "kernelspec": {
   "display_name": "base",
   "language": "python",
   "name": "python3"
  },
  "language_info": {
   "codemirror_mode": {
    "name": "ipython",
    "version": 3
   },
   "file_extension": ".py",
   "mimetype": "text/x-python",
   "name": "python",
   "nbconvert_exporter": "python",
   "pygments_lexer": "ipython3",
   "version": "3.11.7"
  }
 },
 "nbformat": 4,
 "nbformat_minor": 2
}
