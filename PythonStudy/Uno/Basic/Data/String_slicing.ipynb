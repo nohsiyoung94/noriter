{
 "cells": [
  {
   "cell_type": "code",
   "execution_count": 35,
   "metadata": {},
   "outputs": [
    {
     "name": "stdout",
     "output_type": "stream",
     "text": [
      "2024 11 06 09 36 007\n",
      "202411060136007\n"
     ]
    }
   ],
   "source": [
    "a = \"202411060936007\"\n",
    "y = a[0:4]\n",
    "m = a[4:6]\n",
    "d = a[6:8]\n",
    "h = a[8:10]\n",
    "mm = a[10:12]\n",
    "ms = a[12:]\n",
    "print(y,m,d,h,mm,ms)\n",
    "# a[8] = \"1\" : 불가능\n",
    "a = a[0:9] + \"1\" + a[10:]\n",
    "print(a)\n"
   ]
  },
  {
   "cell_type": "code",
   "execution_count": 32,
   "metadata": {},
   "outputs": [
    {
     "name": "stdout",
     "output_type": "stream",
     "text": [
      "2024 11 06 09 36 007\n"
     ]
    }
   ],
   "source": [
    "a = \"202411060936007\"\n",
    "y = a[0:4]\n",
    "m = a[4:6]\n",
    "d = a[6:8]\n",
    "h = a[8:10]\n",
    "mm = a[10:12]\n",
    "ms = a[12:]\n",
    "print(y,m,d,h,mm,ms)"
   ]
  },
  {
   "cell_type": "code",
   "execution_count": 28,
   "metadata": {},
   "outputs": [
    {
     "name": "stdout",
     "output_type": "stream",
     "text": [
      "Fil\n",
      "e is too big\n",
      "e\n",
      "File is too big\n",
      "e is too\n",
      "too\n"
     ]
    }
   ],
   "source": [
    "a = \"File is too big\"\n",
    "print(a[0:3])\n",
    "print(a[3:])\n",
    "print(a[3])\n",
    "print(a[:])\n",
    "print(a[3:-4])\n",
    "print(a[-7:-4])"
   ]
  },
  {
   "cell_type": "code",
   "execution_count": 18,
   "metadata": {},
   "outputs": [
    {
     "name": "stdout",
     "output_type": "stream",
     "text": [
      "Li ifh\n"
     ]
    }
   ],
   "source": [
    "a = \"Life is too short\"\n",
    "print(a[0]+a[1],a[+1]+a[2]+a[-4])"
   ]
  },
  {
   "cell_type": "code",
   "execution_count": 17,
   "metadata": {},
   "outputs": [
    {
     "name": "stdout",
     "output_type": "stream",
     "text": [
      "L\n",
      "s\n",
      "t\n"
     ]
    }
   ],
   "source": [
    "a = \"Life is too short\"\n",
    "print(a[0])\n",
    "print(a[12])\n",
    "print(a[-1])"
   ]
  },
  {
   "cell_type": "code",
   "execution_count": 10,
   "metadata": {},
   "outputs": [
    {
     "name": "stdout",
     "output_type": "stream",
     "text": [
      "Life is too short, You need Python 34\n",
      "L e\n"
     ]
    }
   ],
   "source": [
    "\n",
    "a= \"Life is too short, You need Python\"\n",
    "print(a,len(a))\n",
    "print(a[0],a[3])"
   ]
  },
  {
   "cell_type": "code",
   "execution_count": 5,
   "metadata": {},
   "outputs": [
    {
     "name": "stdout",
     "output_type": "stream",
     "text": [
      "16\n"
     ]
    }
   ],
   "source": [
    "a=\"Life\\' like bitch\"\n",
    "print(len(a))"
   ]
  },
  {
   "cell_type": "code",
   "execution_count": 2,
   "metadata": {},
   "outputs": [
    {
     "name": "stdout",
     "output_type": "stream",
     "text": [
      "9\n"
     ]
    }
   ],
   "source": [
    "a = 5\n",
    "b=4\n",
    "print(a+b)"
   ]
  }
 ],
 "metadata": {
  "kernelspec": {
   "display_name": "base",
   "language": "python",
   "name": "python3"
  },
  "language_info": {
   "codemirror_mode": {
    "name": "ipython",
    "version": 3
   },
   "file_extension": ".py",
   "mimetype": "text/x-python",
   "name": "python",
   "nbconvert_exporter": "python",
   "pygments_lexer": "ipython3",
   "version": "3.11.7"
  }
 },
 "nbformat": 4,
 "nbformat_minor": 2
}
